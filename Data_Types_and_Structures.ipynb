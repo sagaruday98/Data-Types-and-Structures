{
  "nbformat": 4,
  "nbformat_minor": 0,
  "metadata": {
    "colab": {
      "provenance": []
    },
    "kernelspec": {
      "name": "python3",
      "display_name": "Python 3"
    },
    "language_info": {
      "name": "python"
    }
  },
  "cells": [
    {
      "cell_type": "markdown",
      "source": [
        "#Data Types and Structures\n",
        "\n"
      ],
      "metadata": {
        "id": "o6nCC7tLegOv"
      }
    },
    {
      "cell_type": "markdown",
      "source": [],
      "metadata": {
        "id": "bN-KYZuFN00o"
      }
    },
    {
      "cell_type": "markdown",
      "source": [
        "1. What are data structures, and why are they important?\n",
        "  - Data structure\n",
        "      - Data structure are like containers , which can store tha data and with the help of data structure we can acces the collection of our data. Different types of containers are use for different types of item.\n",
        "  - Importance\n",
        "      - when we choose the right data structure, it impacts the efficiency and performance of your program.\n",
        "      - we can add, remove and modify the elements simply.\n",
        "      - structures can optimize and sorting the operations.\n",
        "      - it is important for fast searching and processing.\n",
        "\n",
        "2. Explain the difference between mutable and immutable data types with     examples.\n",
        "  - Mutable data types\n",
        "    - mutables data types are that we can change the value. It update the value directly. It is fast for changes in example:- dict,list and set.\n",
        "  - Immutable data types\n",
        "    - these are tha data types we can't change the value of object. If you update the object it will become the new object, example:- string, tuples,integer.\n",
        "\n",
        "3. What are the main differences between lists and tuples in Python?\n",
        "  - Lists are mutable but tuples are immutable.\n",
        "  - List is used when data may change, Tuple is used when data is constant.\n",
        "  - List has many methods like append, remove, sort, but Tuple has only count and index.\n",
        "  \n",
        "4. Describe how dictionaries store data?\n",
        "- In python, dictionaries stores the data with pairs of key and value. The values decide the storage location in the internal table.\n",
        "\n",
        "5. Why might you use a set instead of a list in Python?\n",
        " - We use set because set are immutable and nobody can change the data in the data sheet and it only carry unique elements but list are mutable so in our data there is always a way to changing or modifying or update it.\n",
        "\n",
        "6. What is a string in Python, and how is it different from a list?\n",
        " - In string, Characters arranged in an unchangeable order. it uses for writing a sentence, a paragraph, or a piece of material.\n",
        " - Difference:-\n",
        "    - Strings are immutable but lists are mutable.\n",
        "    - string can only stored characters but list store different data types\n",
        "    - List is used for general data collection and strings are use for handling text and characters.\n",
        "    \n",
        "7. How do tuples ensure data integrity in Python?    \n",
        "  - tuples ensure data integrity because they are immutable and protectect data from accidently changes.\n",
        "\n",
        "8. What is a hash table, and how does it relate to dictionaries in Python?\n",
        "  - A hash table is a data structure that maps keys to values using hash functions. Python dictionaries are built on hash tables.\n",
        "\n",
        "9. Can lists contain different data types in Python?\n",
        "  - yes list contains differnet data types like,(string,boolean value,integer,float).\n",
        "\n",
        "10. Explain why strings are immutable in Python?\n",
        "   - Strings are immutable because they ensures memory efficiency and protects data from accidental changes.\n",
        "\n",
        "11. What advantages do dictionaries offer over lists for certain tasks?\n",
        "   - Dictionaries are better than lists for fast access, labeled data, unique keys, and scalable key-based operations.\n",
        "\n",
        "12. Describe a scenario where using a tuple would be preferable over a list?\n",
        "   - Tuples are faster than lists. The values in tuples are fixed but in lists, they are changable. If you use a tuple, Python will keep them safe and also faster to access. If you used a list, someone might accidentally change the coordinates, which can be not good.Thats why, using tuples are preferable over lists.\n",
        "\n",
        "13. How do sets handle duplicate values in Python?\n",
        "   - Sets automatically remove duplicate value by default , if you try either , sets will only store unique characters.\n",
        "\n",
        "14. How does the “in” keyword work differently for lists and dictionaries?\n",
        "   - In list, “in” keyword check the presence of an element , whether it present in the list or not.\n",
        "   - In dictionaries, “in” keyword used for check only the key components not the value.\n",
        "\n",
        "15. Can you modify the elements of a tuple? Explain why or why not?\n",
        "   - No we can't modify the elements in tuple because are tuples immutable. once you store an element in tuples, that will be unchanged.\n",
        "\n",
        "16. What is a nested dictionary, and give an example of its use case.\n",
        "   - A nested dictionary means having a dictionary inside another dictionary.\n",
        "   - Use case is like we want to store information of many students, where each student has their own details (name, age, course).There we can use nested dictionary.\n",
        "\n",
        "17. Describe the time complexity of accessing elements in a dictionary  \n",
        "  - Accessing elements in a Python dictionary takes O(1) on average (constant time) and O(n) in the rare worst case.\n",
        "\n",
        "18. In what situations are lists preferred over dictionaries?\n",
        "   - Lists are preferred over dictionaries when we need ordered data, allow duplicates, and access items by index, or when we just want a simple collection of elements without key-value pairs.\n",
        "\n",
        "19. Why are dictionaries considered unordered, and how does that affect data retrieval?\n",
        "   - Dictionaries are considered unordered because, traditionally, they didn’t guarantee any specific order of their key–value pairs. that affect data retrioeval in example, looking something up by its label (key) always works, no matter the order. They are designed mainly for quick label-based lookups, not for keeping a perfect sequence like a list would.\n",
        "\n",
        "20. Explain the difference between a list and a dictionary in terms of data retrieval.\n",
        " - List\n",
        "   - A list stores items in a specific order, and you retrieve data by its position (index).Retrieval is fast if you know the index, but you must remember the exact position.\n",
        " - Dictionary\n",
        "   - A dictionary stores data as key–value pairs, and you retrieve data using a key instead of a position. This makes dictionaries better when you need quick lookups based on a unique identifier, not an item’s position.  \n",
        "   \n",
        "      "
      ],
      "metadata": {
        "id": "5mzyncJofY1Z"
      }
    },
    {
      "cell_type": "code",
      "source": [
        "#1. Write a code to create a string with your name and print it.\n",
        "name = \"Sagar\"\n",
        "print(name)"
      ],
      "metadata": {
        "colab": {
          "base_uri": "https://localhost:8080/"
        },
        "id": "BgFyV5-MKARH",
        "outputId": "cd2cc61a-3c31-4806-c683-85df625339a8"
      },
      "execution_count": null,
      "outputs": [
        {
          "output_type": "stream",
          "name": "stdout",
          "text": [
            "Sagar\n"
          ]
        }
      ]
    },
    {
      "cell_type": "code",
      "source": [
        "#2.  Write a code to find the length of the string \"Hello World\"\n",
        "quote = \"Hello World\"\n",
        "print(len(quote))"
      ],
      "metadata": {
        "colab": {
          "base_uri": "https://localhost:8080/"
        },
        "id": "Ra08_4b1KCEj",
        "outputId": "c73fb313-fea4-4f22-ca4f-8e3c83335b3a"
      },
      "execution_count": null,
      "outputs": [
        {
          "output_type": "stream",
          "name": "stdout",
          "text": [
            "11\n"
          ]
        }
      ]
    },
    {
      "cell_type": "code",
      "source": [
        "#3. Write a code to slice the first 3 characters from the string \"Python Programming\"\n",
        "string = \"Python Programming\"\n",
        "print(string[0:3])"
      ],
      "metadata": {
        "colab": {
          "base_uri": "https://localhost:8080/"
        },
        "id": "kZX5zjPjKDtW",
        "outputId": "7d53c8f2-cf0a-4406-af9b-bea614eb0987"
      },
      "execution_count": null,
      "outputs": [
        {
          "output_type": "stream",
          "name": "stdout",
          "text": [
            "Pyt\n"
          ]
        }
      ]
    },
    {
      "cell_type": "code",
      "source": [
        "#4. Write a code to convert the string \"hello\" to uppercase.\n",
        "string = \"hello\"\n",
        "print(string.upper())\n"
      ],
      "metadata": {
        "colab": {
          "base_uri": "https://localhost:8080/"
        },
        "id": "EoUCc-cNKECR",
        "outputId": "c16c6818-adc0-4c36-acbf-2bfdc3c06b7a"
      },
      "execution_count": null,
      "outputs": [
        {
          "output_type": "stream",
          "name": "stdout",
          "text": [
            "HELLO\n"
          ]
        }
      ]
    },
    {
      "cell_type": "code",
      "source": [
        "#5. Write a code to replace the word \"apple\" with \"orange\" in the string \"I like apple\"\n",
        "string = \"I like apple\"\n",
        "print(string.replace(\"apple\",\"orange\"))\n"
      ],
      "metadata": {
        "colab": {
          "base_uri": "https://localhost:8080/"
        },
        "id": "8qyLbSUSKEKr",
        "outputId": "98a6b1ba-2184-4e75-cace-5ab2c5907b3c"
      },
      "execution_count": null,
      "outputs": [
        {
          "output_type": "stream",
          "name": "stdout",
          "text": [
            "I like orange\n"
          ]
        }
      ]
    },
    {
      "cell_type": "code",
      "source": [
        "#6. Write a code to create a list with numbers 1 to 5 and print it.\n",
        "list = [1,2,3,4,5]\n",
        "print(list)\n"
      ],
      "metadata": {
        "colab": {
          "base_uri": "https://localhost:8080/"
        },
        "id": "Z7BDXjc0KEuH",
        "outputId": "e187536c-c9bc-4911-9cc9-44b09221f27c"
      },
      "execution_count": null,
      "outputs": [
        {
          "output_type": "stream",
          "name": "stdout",
          "text": [
            "[1, 2, 3, 4, 5]\n"
          ]
        }
      ]
    },
    {
      "cell_type": "code",
      "source": [
        "#7. Write a code to append the number 10 to the list [1, 2, 3, 4]\n",
        "list = [1,2,3,4]\n",
        "list.append(10)\n",
        "print(list)"
      ],
      "metadata": {
        "colab": {
          "base_uri": "https://localhost:8080/"
        },
        "id": "pFhf9H4aKFy3",
        "outputId": "75226fc5-1ffb-4f48-e7af-6849d07d7bdb"
      },
      "execution_count": null,
      "outputs": [
        {
          "output_type": "stream",
          "name": "stdout",
          "text": [
            "[1, 2, 3, 4, 10]\n"
          ]
        }
      ]
    },
    {
      "cell_type": "code",
      "source": [
        "#8. Write a code to remove the number 3 from the list [1, 2, 3, 4, 5]\n",
        "list = [1,2,3,4,5]\n",
        "list.remove(3)\n",
        "print(list)"
      ],
      "metadata": {
        "colab": {
          "base_uri": "https://localhost:8080/"
        },
        "id": "JYL4_g86KF9n",
        "outputId": "732e700e-ebf9-4a17-f435-382324b55cd5"
      },
      "execution_count": null,
      "outputs": [
        {
          "output_type": "stream",
          "name": "stdout",
          "text": [
            "[1, 2, 4, 5]\n"
          ]
        }
      ]
    },
    {
      "cell_type": "code",
      "source": [
        "#9. Write a code to access the second element in the list ['a', 'b', 'c', 'd']\n",
        "list = ['a', 'b', 'c', 'd']\n",
        "print(list[1])"
      ],
      "metadata": {
        "colab": {
          "base_uri": "https://localhost:8080/"
        },
        "id": "-wMZjBqSKGH4",
        "outputId": "687a81b0-1353-4aa4-8214-3d3214602333"
      },
      "execution_count": null,
      "outputs": [
        {
          "output_type": "stream",
          "name": "stdout",
          "text": [
            "b\n"
          ]
        }
      ]
    },
    {
      "cell_type": "code",
      "source": [
        "#10. Write a code to reverse the list [10, 20, 30, 40, 50]\n",
        "list = [10, 20, 30, 40, 50]\n",
        "print(list[::-1])"
      ],
      "metadata": {
        "colab": {
          "base_uri": "https://localhost:8080/"
        },
        "id": "zuwGNIT5KGmq",
        "outputId": "c3a75082-a03d-4bbe-e9eb-c837e9e9c5d6"
      },
      "execution_count": null,
      "outputs": [
        {
          "output_type": "stream",
          "name": "stdout",
          "text": [
            "[50, 40, 30, 20, 10]\n"
          ]
        }
      ]
    },
    {
      "cell_type": "code",
      "source": [
        "#11. Write a code to create a tuple with the elements 100, 200, 300 and print it.\n",
        "tuple = (100,200,300)\n",
        "print(tuple)"
      ],
      "metadata": {
        "colab": {
          "base_uri": "https://localhost:8080/"
        },
        "id": "algC9H1gKGxi",
        "outputId": "96c0ffab-baaa-4dfb-ca75-2170d6bb5e24"
      },
      "execution_count": null,
      "outputs": [
        {
          "output_type": "stream",
          "name": "stdout",
          "text": [
            "(100, 200, 300)\n"
          ]
        }
      ]
    },
    {
      "cell_type": "code",
      "source": [
        "#12. Write a code to access the second-to-last element of the tuple ('red', 'green', 'blue', 'yellow').\n",
        "tuple = ('red', 'green', 'blue', 'yellow')\n",
        "print (tuple[1:5])"
      ],
      "metadata": {
        "colab": {
          "base_uri": "https://localhost:8080/"
        },
        "id": "NRuziVDgKG7T",
        "outputId": "753a2ad1-e0a4-4ba6-b4fd-414efd618381"
      },
      "execution_count": null,
      "outputs": [
        {
          "output_type": "stream",
          "name": "stdout",
          "text": [
            "('green', 'blue', 'yellow')\n"
          ]
        }
      ]
    },
    {
      "cell_type": "code",
      "source": [
        "#13.  Write a code to find the minimum number in the tuple (10, 20, 5, 15).\n",
        "tuple = (10, 20, 5, 15)\n",
        "print(min(tuple))"
      ],
      "metadata": {
        "colab": {
          "base_uri": "https://localhost:8080/"
        },
        "id": "wfpDd6MhKHEr",
        "outputId": "2ea2c301-7883-4b1e-fe08-a48bf209f04b"
      },
      "execution_count": null,
      "outputs": [
        {
          "output_type": "stream",
          "name": "stdout",
          "text": [
            "5\n"
          ]
        }
      ]
    },
    {
      "cell_type": "code",
      "source": [
        "#14.  Write a code to find the index of the element \"cat\" in the tuple ('dog', 'cat', 'rabbit').\n",
        "tuple = ('dog', 'cat', 'rabbit')\n",
        "print(tuple.index(\"cat\"))"
      ],
      "metadata": {
        "colab": {
          "base_uri": "https://localhost:8080/"
        },
        "id": "f2xYgRbHKHOD",
        "outputId": "12056e6d-f989-4e74-c5ab-695992a00cd6"
      },
      "execution_count": null,
      "outputs": [
        {
          "output_type": "stream",
          "name": "stdout",
          "text": [
            "1\n"
          ]
        }
      ]
    },
    {
      "cell_type": "code",
      "source": [
        "#15. Write a code to create a tuple containing three different fruits and check if \"kiwi\" is in it.\n",
        "tuple = (\"apple\",\"banana\",\"kiwi\")\n",
        "print(\"kiwi\" in tuple)"
      ],
      "metadata": {
        "colab": {
          "base_uri": "https://localhost:8080/"
        },
        "id": "Yu53xxDSKHWg",
        "outputId": "31e51753-c629-4c8d-c170-5391053421a8"
      },
      "execution_count": null,
      "outputs": [
        {
          "output_type": "stream",
          "name": "stdout",
          "text": [
            "True\n"
          ]
        }
      ]
    },
    {
      "cell_type": "code",
      "source": [
        "#16. Write a code to create a set with the elements 'a', 'b', 'c' and print it.\n",
        "set = {\"a\",\"b\",\"c\"}\n",
        "print(set)"
      ],
      "metadata": {
        "colab": {
          "base_uri": "https://localhost:8080/"
        },
        "id": "XKXLZrQvKHfz",
        "outputId": "a1a99a9c-cb7e-45c7-ad60-5fec5253d503"
      },
      "execution_count": null,
      "outputs": [
        {
          "output_type": "stream",
          "name": "stdout",
          "text": [
            "{'b', 'c', 'a'}\n"
          ]
        }
      ]
    },
    {
      "cell_type": "code",
      "source": [
        "#17. Write a code to clear all elements from the set {1, 2, 3, 4, 5}.\n",
        "set = {1, 2, 3, 4, 5}\n",
        "set.clear()\n",
        "print(set)"
      ],
      "metadata": {
        "colab": {
          "base_uri": "https://localhost:8080/"
        },
        "id": "QirQWC_CKHoQ",
        "outputId": "e76a9670-e4ba-4bf5-88af-87e60972be24"
      },
      "execution_count": null,
      "outputs": [
        {
          "output_type": "stream",
          "name": "stdout",
          "text": [
            "set()\n"
          ]
        }
      ]
    },
    {
      "cell_type": "code",
      "source": [
        "#18.  Write a code to remove the element 4 from the set {1, 2, 3, 4}.\n",
        "set = {1, 2, 3, 4}\n",
        "set.remove(4)\n",
        "print(set)"
      ],
      "metadata": {
        "colab": {
          "base_uri": "https://localhost:8080/"
        },
        "id": "QJIlwpaaUyjJ",
        "outputId": "c7678180-6cce-4a9e-d3f3-00573e221fc2"
      },
      "execution_count": null,
      "outputs": [
        {
          "output_type": "stream",
          "name": "stdout",
          "text": [
            "{1, 2, 3}\n"
          ]
        }
      ]
    },
    {
      "cell_type": "code",
      "source": [
        "#19. Write a code to find the union of two sets {1, 2, 3} and {3, 4, 5}.\n",
        "set1 = {1, 2, 3}\n",
        "set2 = {3, 4, 5}\n",
        "print(set1.union(set2))"
      ],
      "metadata": {
        "colab": {
          "base_uri": "https://localhost:8080/"
        },
        "id": "zW_eGJ4uUygZ",
        "outputId": "c09eede8-7d0a-4f49-9530-4068ac3b0864"
      },
      "execution_count": null,
      "outputs": [
        {
          "output_type": "stream",
          "name": "stdout",
          "text": [
            "{1, 2, 3, 4, 5}\n"
          ]
        }
      ]
    },
    {
      "cell_type": "code",
      "source": [
        "#20.  Write a code to find the intersection of two sets {1, 2, 3} and {2, 3, 4}\n",
        "set1 = {1, 2, 3}\n",
        "set2 = {2, 3, 4}\n",
        "print(set1 & set2)"
      ],
      "metadata": {
        "colab": {
          "base_uri": "https://localhost:8080/"
        },
        "id": "Pa2VBx8yUydu",
        "outputId": "68f0c896-d970-4c93-bcdc-f5540fdd60e7"
      },
      "execution_count": null,
      "outputs": [
        {
          "output_type": "stream",
          "name": "stdout",
          "text": [
            "{2, 3}\n"
          ]
        }
      ]
    },
    {
      "cell_type": "code",
      "source": [
        "#21. Write a code to create a dictionary with the keys \"name\", \"age\", and \"city\", and print it.\n",
        "dict = {\"name\":\"sagar\",\"age\":20,\"city\":\"pune\"}\n",
        "print(dict)"
      ],
      "metadata": {
        "id": "TphbqpG0UyZB",
        "colab": {
          "base_uri": "https://localhost:8080/"
        },
        "outputId": "3737de51-2950-46aa-f26e-a42477f8b6c3"
      },
      "execution_count": null,
      "outputs": [
        {
          "output_type": "stream",
          "name": "stdout",
          "text": [
            "{'name': 'sagar', 'age': 20, 'city': 'pune'}\n"
          ]
        }
      ]
    },
    {
      "cell_type": "code",
      "source": [
        "#22. Write a code to add a new key-value pair \"country\": \"USA\" to the dictionary {'name': 'John', 'age': 25}.\n",
        "dictionary = {'name': 'John', 'age': 25}\n",
        "dictionary[\"country\"] = \"USA\"\n",
        "print(dictionary)"
      ],
      "metadata": {
        "id": "K9TVmAAuUyTT",
        "colab": {
          "base_uri": "https://localhost:8080/"
        },
        "outputId": "2c3a9bad-5471-48fb-dbd6-4c6d524f12c2"
      },
      "execution_count": null,
      "outputs": [
        {
          "output_type": "stream",
          "name": "stdout",
          "text": [
            "{'name': 'John', 'age': 25, 'country': 'USA'}\n"
          ]
        }
      ]
    },
    {
      "cell_type": "code",
      "source": [
        "#23. Write a code to access the value associated with the key \"name\" in the dictionary {'name': 'Alice', 'age': 30}.\n",
        "dictionary = {'name': 'Alice', 'age': 30}\n",
        "print(dictionary[\"name\"])"
      ],
      "metadata": {
        "id": "4h2LTWdfUyQJ",
        "colab": {
          "base_uri": "https://localhost:8080/"
        },
        "outputId": "39103c5b-c0a3-436a-8c8a-111f740bc219"
      },
      "execution_count": null,
      "outputs": [
        {
          "output_type": "stream",
          "name": "stdout",
          "text": [
            "Alice\n"
          ]
        }
      ]
    },
    {
      "cell_type": "code",
      "source": [
        "#24. Write a code to remove the key \"age\" from the dictionary {'name': 'Bob', 'age': 22, 'city': 'New York'}.\n",
        "dictionary = {'name': 'Bob', 'age': 22, 'city': 'New York'}\n",
        "dictionary.pop(\"age\")\n",
        "print(dictionary)"
      ],
      "metadata": {
        "id": "oxKX85AbUyNL",
        "colab": {
          "base_uri": "https://localhost:8080/"
        },
        "outputId": "c5537c05-3f99-432f-edfb-50666458fb58"
      },
      "execution_count": null,
      "outputs": [
        {
          "output_type": "stream",
          "name": "stdout",
          "text": [
            "{'name': 'Bob', 'city': 'New York'}\n"
          ]
        }
      ]
    },
    {
      "cell_type": "code",
      "source": [
        "#25. Write a code to check if the key \"city\" exists in the dictionary {'name': 'Alice', 'city': 'Paris'}.\n",
        "dictionary = {'name': 'Alice', 'city': 'Paris'}\n",
        "print(\"city\" in dictionary)"
      ],
      "metadata": {
        "id": "jw1a3N_sUyJ3",
        "colab": {
          "base_uri": "https://localhost:8080/"
        },
        "outputId": "fe282ea6-dfd3-432b-e5c4-ad62b35d3a66"
      },
      "execution_count": null,
      "outputs": [
        {
          "output_type": "stream",
          "name": "stdout",
          "text": [
            "True\n"
          ]
        }
      ]
    },
    {
      "cell_type": "code",
      "source": [
        "#26. Write a code to create a list, a tuple, and a dictionary, and print them all.\n",
        "list = [1,2,3,4,5]\n",
        "tuple = (5,4,3,2,1)\n",
        "dictionary = {\"name\":\"sagar\",\"age\":20,\"city\":\"pune\"}\n",
        "print(list)\n",
        "print(tuple)\n",
        "print(dictionary)"
      ],
      "metadata": {
        "id": "CGyq7YjwUxYT",
        "colab": {
          "base_uri": "https://localhost:8080/"
        },
        "outputId": "10dd408a-adfe-48a5-c3d5-2526b7175681"
      },
      "execution_count": null,
      "outputs": [
        {
          "output_type": "stream",
          "name": "stdout",
          "text": [
            "[1, 2, 3, 4, 5]\n",
            "(5, 4, 3, 2, 1)\n",
            "{'name': 'sagar', 'age': 20, 'city': 'pune'}\n"
          ]
        }
      ]
    },
    {
      "cell_type": "code",
      "source": [
        "#27. Write a code to create a list of 5 random numbers between 1 and 100, sort it in ascending order, and print the result.\n",
        "list = [6, 9, 26, 74, 65]\n",
        "list.sort()\n",
        "print(list)\n"
      ],
      "metadata": {
        "id": "ozRaLK6RUxVk",
        "colab": {
          "base_uri": "https://localhost:8080/"
        },
        "outputId": "28f8f371-0f50-415d-ccf8-c5e2c27e488a"
      },
      "execution_count": null,
      "outputs": [
        {
          "output_type": "stream",
          "name": "stdout",
          "text": [
            "[6, 9, 26, 65, 74]\n"
          ]
        }
      ]
    },
    {
      "cell_type": "code",
      "source": [
        "#28. Write a code to create a list with strings and print the element at the third index\n",
        "list = [\"apple\",\"banana\",\"chiku\"]\n",
        "print(list[2])"
      ],
      "metadata": {
        "id": "tMZ-8Iy2UxTK",
        "colab": {
          "base_uri": "https://localhost:8080/"
        },
        "outputId": "50f67891-7981-4a69-e391-0567f9fdcbe7"
      },
      "execution_count": null,
      "outputs": [
        {
          "output_type": "stream",
          "name": "stdout",
          "text": [
            "chiku\n"
          ]
        }
      ]
    },
    {
      "cell_type": "code",
      "source": [
        "#29. Write a code to combine two dictionaries into one and print the result.\n",
        "dict1 = {\"name\": \"sagar\", \"age\": 20, \"city\": \"agra\"}\n",
        "dict2 = {\"name\": \"anjali\", \"age\": 21, \"city\": \"agra\"}\n",
        "\n",
        "comb_dict = dict1 | dict2\n",
        "print(comb_dict)\n"
      ],
      "metadata": {
        "id": "0FK6m1YOUxLq",
        "colab": {
          "base_uri": "https://localhost:8080/"
        },
        "outputId": "7fcf2be8-5cc5-4f29-bf42-098a6bc4b801"
      },
      "execution_count": null,
      "outputs": [
        {
          "output_type": "stream",
          "name": "stdout",
          "text": [
            "{'name': 'anjali', 'age': 21, 'city': 'agra'}\n"
          ]
        }
      ]
    },
    {
      "cell_type": "code",
      "source": [
        "#30. Write a code to convert a list of strings into a set.\n",
        "list = [\"apple\",\"banana\",\"chiku\"]\n",
        "print(set(list))"
      ],
      "metadata": {
        "id": "iget4t7hUxIk",
        "colab": {
          "base_uri": "https://localhost:8080/"
        },
        "outputId": "224fd465-66e6-4feb-d91a-16739f63f349"
      },
      "execution_count": null,
      "outputs": [
        {
          "output_type": "stream",
          "name": "stdout",
          "text": [
            "{'banana', 'apple', 'chiku'}\n"
          ]
        }
      ]
    }
  ]
}